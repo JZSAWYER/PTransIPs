{
 "cells": [
  {
   "attachments": {},
   "cell_type": "markdown",
   "metadata": {},
   "source": [
    "合并两个fasta文件"
   ]
  },
  {
   "cell_type": "code",
   "execution_count": 1,
   "metadata": {},
   "outputs": [],
   "source": [
    "# 定义输入文件的路径\n",
    "input_files = [\"../data/ST-train.fa\", \"../data/ST-test.fa\"]\n",
    "\n",
    "# 定义输出文件的路径\n",
    "output_file = \"./ST.fa\"\n",
    "\n",
    "# 使用\"append\"模式打开输出文件，如果文件已存在，数据将被添加到文件的末尾\n",
    "with open(output_file, 'a') as outfile:\n",
    "    for fname in input_files:\n",
    "        # 打开输入文件进行读取\n",
    "        with open(fname) as infile:\n",
    "            # 将输入文件的内容写入输出文件\n",
    "            for line in infile:\n",
    "                outfile.write(line)\n"
   ]
  },
  {
   "cell_type": "code",
   "execution_count": 2,
   "metadata": {},
   "outputs": [],
   "source": [
    "# 定义输入文件的路径\n",
    "input_files = [\"../data/Y-train.fa\", \"../data/Y-test.fa\"]\n",
    "\n",
    "# 定义输出文件的路径\n",
    "output_file = \"./Y.fa\"\n",
    "\n",
    "# 使用\"append\"模式打开输出文件，如果文件已存在，数据将被添加到文件的末尾\n",
    "with open(output_file, 'a') as outfile:\n",
    "    for fname in input_files:\n",
    "        # 打开输入文件进行读取\n",
    "        with open(fname) as infile:\n",
    "            # 将输入文件的内容写入输出文件\n",
    "            for line in infile:\n",
    "                outfile.write(line)\n"
   ]
  },
  {
   "attachments": {},
   "cell_type": "markdown",
   "metadata": {},
   "source": [
    "统计两个fasta文件中的序列个数"
   ]
  },
  {
   "cell_type": "code",
   "execution_count": 4,
   "metadata": {},
   "outputs": [
    {
     "name": "stdout",
     "output_type": "stream",
     "text": [
      "--- First 5 lines of ./ST.fa ---\n",
      ">1\n",
      "SNSTRLPEASQAHVRVSPGQAAPAMARPRRSRH\n",
      ">1\n",
      "HSTRQKSPEIHRRIDISPSTLRKHTRLAGEERV\n",
      ">1\n",
      "\n",
      "--------------------------------------------------\n",
      "There are 10774 sequences in ./ST.fa\n",
      "--- First 5 lines of ./Y.fa ---\n",
      ">1\n",
      "DSALHTSVMNPSPQDTYPGPTPPSILPSRRGGI\n",
      ">1\n",
      "NSSSPQSSAGGKPAMSYASALRAPPKPRPPPEQ\n",
      ">1\n",
      "\n",
      "--------------------------------------------------\n",
      "There are 204 sequences in ./Y.fa\n"
     ]
    }
   ],
   "source": [
    "# 定义需要打开的文件名\n",
    "file_names = [\"./ST.fa\", \"./Y.fa\"]\n",
    "\n",
    "# 对每个文件进行操作\n",
    "for file_name in file_names:\n",
    "    # 初始化计数器\n",
    "    count = 0\n",
    "    # 打开文件进行读取\n",
    "    with open(file_name, 'r') as f:\n",
    "        # 逐行读取\n",
    "        for line in f:\n",
    "            # 如果这一行是标题行（即以'>'开头），计数器加一\n",
    "            if line.startswith('>'):\n",
    "                count += 1\n",
    "        # 打开文件进行读取\n",
    "        with open(file_name, 'r') as f:\n",
    "            # 打印文件名\n",
    "            print(f'--- First 5 lines of {file_name} ---')\n",
    "            # 循环读取前五行\n",
    "            for _ in range(5):\n",
    "                # 输出每一行\n",
    "                print(f.readline(), end='')\n",
    "            # 打印分隔线\n",
    "            print('\\n' + '-'*50)\n",
    "    # 输出结果\n",
    "    print(f'There are {count} sequences in {file_name}')\n"
   ]
  },
  {
   "attachments": {},
   "cell_type": "markdown",
   "metadata": {},
   "source": [
    "把这些序列的Positive/Negative分开，保存到ST_Pos和ST_Neg中，Y同理，保存txt文件即可，每一行还是保持分行。\n",
    "这里的>1就代表标签1，阳性。>0就代表标签0，阴性。"
   ]
  },
  {
   "cell_type": "code",
   "execution_count": 5,
   "metadata": {},
   "outputs": [],
   "source": [
    "from Bio import SeqIO\n",
    "\n",
    "def parse_fasta_and_save(fasta_file, pos_file, neg_file):\n",
    "    pos_sequences = []\n",
    "    neg_sequences = []\n",
    "    \n",
    "    for record in SeqIO.parse(fasta_file, \"fasta\"):\n",
    "        # 标签在fasta文件的description中，\">1\"代表阳性，\">0\"代表阴性\n",
    "        label = int(record.description.split(\">\")[-1])\n",
    "        sequence = str(record.seq)\n",
    "        \n",
    "        if label == 1:\n",
    "            pos_sequences.append(sequence)\n",
    "        else:\n",
    "            neg_sequences.append(sequence)\n",
    "    \n",
    "    # 保存阳性和阴性序列到txt文件中\n",
    "    with open(pos_file, 'w') as f:\n",
    "        for seq in pos_sequences:\n",
    "            f.write(\"%s\\n\" % seq)\n",
    "    \n",
    "    with open(neg_file, 'w') as f:\n",
    "        for seq in neg_sequences:\n",
    "            f.write(\"%s\\n\" % seq)\n",
    "\n",
    "# 使用定义的函数处理两个fasta文件\n",
    "parse_fasta_and_save(\"/root/autodl-tmp/myDNAPredict/program 1.1/sequence_to_analysis/ST.fa\",\n",
    "                     \"/root/autodl-tmp/myDNAPredict/program 1.1/sequence_to_analysis/ST_Pos.txt\",\n",
    "                     \"/root/autodl-tmp/myDNAPredict/program 1.1/sequence_to_analysis/ST_Neg.txt\")\n",
    "\n",
    "parse_fasta_and_save(\"/root/autodl-tmp/myDNAPredict/program 1.1/sequence_to_analysis/Y.fa\",\n",
    "                     \"/root/autodl-tmp/myDNAPredict/program 1.1/sequence_to_analysis/Y_Pos.txt\",\n",
    "                     \"/root/autodl-tmp/myDNAPredict/program 1.1/sequence_to_analysis/Y_Neg.txt\")\n"
   ]
  }
 ],
 "metadata": {
  "kernelspec": {
   "display_name": "base",
   "language": "python",
   "name": "python3"
  },
  "language_info": {
   "codemirror_mode": {
    "name": "ipython",
    "version": 3
   },
   "file_extension": ".py",
   "mimetype": "text/x-python",
   "name": "python",
   "nbconvert_exporter": "python",
   "pygments_lexer": "ipython3",
   "version": "3.8.10"
  },
  "orig_nbformat": 4
 },
 "nbformat": 4,
 "nbformat_minor": 2
}
